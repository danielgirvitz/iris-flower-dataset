{
 "cells": [
  {
   "cell_type": "markdown",
   "id": "9b4f1b73",
   "metadata": {},
   "source": [
    "# Iris Flower Dataset Classification Using Naive Bayes Classifiers"
   ]
  },
  {
   "cell_type": "markdown",
   "id": "8c4092df",
   "metadata": {},
   "source": [
    "## The Iris Flower Dataset"
   ]
  },
  {
   "cell_type": "markdown",
   "id": "9b98360b",
   "metadata": {},
   "source": [
    "The data set consists of 50 samples from each of three species of Iris (Iris setosa, Iris virginica and Iris versicolor). Four features were measured from each sample: the length and the width of the sepals and petals, in centimeters."
   ]
  },
  {
   "cell_type": "markdown",
   "id": "a5583c35",
   "metadata": {},
   "source": [
    "## Naive Bayes Classifiers"
   ]
  },
  {
   "cell_type": "markdown",
   "id": "c46a77f6",
   "metadata": {},
   "source": [
    "### Sources"
   ]
  },
  {
   "cell_type": "markdown",
   "id": "4321378a",
   "metadata": {},
   "source": [
    "http://www.cs.columbia.edu/~mcollins/em.pdf"
   ]
  },
  {
   "cell_type": "markdown",
   "id": "2029e577",
   "metadata": {},
   "source": [
    "https://towardsdatascience.com/naive-bayes-classifier-81d512f50a7c"
   ]
  },
  {
   "cell_type": "markdown",
   "id": "f34b2bd5",
   "metadata": {},
   "source": [
    "### What are Naive Bayes Classifiers?"
   ]
  },
  {
   "cell_type": "markdown",
   "id": "f72b8aa0",
   "metadata": {},
   "source": [
    "Naive Bayes Classifiers are probabilistic supervised machine learning models that are used for classification tasks. The crux of the classifiers is based on the Bayes theorem. They are fast and easy to implement but their biggest disadvantage is that the requirement of predictors to be independent. In most of the real life cases, the predictors are dependent, this hinders the performance of the classifier."
   ]
  },
  {
   "cell_type": "markdown",
   "id": "cc055d5a",
   "metadata": {},
   "source": [
    "### How do Naive Bayes Classifiers work?"
   ]
  },
  {
   "cell_type": "markdown",
   "id": "d900538e",
   "metadata": {},
   "source": [
    "For a given training dataset of $l$ points of the form $ (\\mathbf{x_1}, y_1), ..., (\\mathbf{x_l}, y_l) $ where $ \\mathbf{x_j} \\in \\mathit{R}^n $ and $ y \\in \\{1,2,...,d\\}$, and $ d $ is an integer specifying the number of classes in the problem, the task is to map each input vector $ \\mathbf{x} $ to a label $ y $ that can take any one of $ d $ possible values."
   ]
  },
  {
   "cell_type": "markdown",
   "id": "16339697",
   "metadata": {},
   "source": [
    "Naive Bayes Classifiers require the solution of the following optimization problem:\n",
    "\n",
    "\\begin{align}\n",
    "C = \\underset{\\mathbf{C_k}}{\\text{arg max}} & \\; p(C_k) \\prod_{j=1}^l p(\\mathbf{x_j}|C_k) \n",
    "\\end{align}"
   ]
  },
  {
   "cell_type": "markdown",
   "id": "892b8d3c",
   "metadata": {},
   "source": [
    "### Derivation"
   ]
  },
  {
   "cell_type": "markdown",
   "id": "4a5760e2",
   "metadata": {},
   "source": [
    "Assuming random variables $ Y $ and $ X_1,...,X_l $ (iid) correspond to label $ y $ and vector components $ \\mathbf{x_1}, \\mathbf{x_2}, ... , \\mathbf{x_l} $, we model the joint probability\n",
    "\n",
    "\\begin{align}\n",
    "P(Y=y, X_1 = \\mathbf{x_1}, X_2 = \\mathbf{x_2}, ..., X_l = \\mathbf{x_l}) \n",
    "\\end{align}\n",
    "\n",
    "for any label $ y $ paired with attribute values $ \\mathbf{x_1}, \\mathbf{x_2}, ... , \\mathbf{x_l} $:\n",
    "\n",
    "\\begin{align}\n",
    "  \\quad & P(Y=y,  X_1 = \\mathbf{x_1}, X_2 = \\mathbf{x_2}, ..., X_l = \\mathbf{x_l}) \\\\\n",
    "= \\quad & P(Y=y)\\times P(X_1 = \\mathbf{x_1}, X_2 = \\mathbf{x_2}, ..., X_l = \\mathbf{x_l} | Y=y) & \\text{(Chain rule)} \\\\\n",
    "= \\quad & P(Y=y)\\times \\prod_{j=1}^l P(X_j=\\mathbf{x_j} | X_1 = \\mathbf{x_1}, X_2 = \\mathbf{x_2}, ..., X_{j-1} = \\mathbf{x_{j-1}}, Y=y) \\qquad & \\text{(Chain rule)} \\\\\n",
    "= \\quad & P(Y=y)\\times \\prod_{j=1}^l P(X_j=\\mathbf{x_j} | Y=y) & \\qquad \\text{(Independence assumption)} \\\\\n",
    "\\end{align}\n",
    "\n",
    "This independence assumption is in fact the Naive Bayes assumption.  It is naive, in the sense that it is a relatively strong assumption. It is, however, a very useful assumption, in that it dramatically reduces the number of parameters in the model, while still leading to a model that can be quite effective in practice.\n",
    "\n",
    "Now, let us define the following parameters: \n",
    "$$ P(Y=y)=p(C_k) \\ \\forall \\ k \\in \\{1,...,d\\} $$ \n",
    "\n",
    "with constraints $ p(C_k) \\ge 0 $ and $ \\sum_1^d p(C_k)=1 $; \n",
    "\n",
    "and:\n",
    "$$ P(X_j=\\mathbf{x_j} | Y=y) = p(\\mathbf{x_j}|C_k) \\ \\forall \\ j \\in \\{1,...,l\\}, \\ \\mathbf{x_j} \\in \\mathit{R}^n, \\ y \\in \\{1,2,...,d\\} $$ \n",
    "\n",
    "with constraints $ p(\\mathbf{x_j}|C_k) \\ge 0 $ and $ \\ \\forall \\ C_k,j, \\ \\sum_{x_j} p(\\mathbf{x_j}|C_k)=1 $\n",
    "\n",
    "We now have:\n",
    "\n",
    "\\begin{align}\n",
    "P(y, \\mathbf{x_1}, \\mathbf{x_2}, ...,  \\mathbf{x_l}) = p(C_k) \\prod_{j=1}^l p(\\mathbf{x_j}|C_k)\n",
    "\\end{align}\n",
    "\n",
    "Once parameters are estimated from training samples, given a new test example, the output of the Naive Bayes Classifier is:\n",
    "$$ C = \\underset{\\mathbf{y \\in \\{1,...,d\\}}}{\\text{arg max}} \\; P(y, \\mathbf{x_1}, \\mathbf{x_2}, ...,  \\mathbf{x_l}) \n",
    "     = \\underset{\\mathbf{C_k}}{\\text{arg max}} \\; p(C_k) \\prod_{j=1}^l p(\\mathbf{x_j}|C_k)  $$"
   ]
  },
  {
   "cell_type": "markdown",
   "id": "ade522d9",
   "metadata": {},
   "source": [
    "## Python Code"
   ]
  },
  {
   "cell_type": "markdown",
   "id": "c329d2cc",
   "metadata": {},
   "source": [
    "### Section 0: Load relevant materials"
   ]
  },
  {
   "cell_type": "code",
   "execution_count": 1,
   "id": "957cd84b",
   "metadata": {},
   "outputs": [],
   "source": [
    "# Load relevant packages\n",
    "from sklearn.naive_bayes import GaussianNB\n",
    "from sklearn.model_selection import train_test_split\n",
    "from sklearn.metrics import confusion_matrix\n",
    "from sklearn.metrics import accuracy_score\n",
    "from sklearn import datasets\n",
    "\n",
    "import numpy as np\n",
    "import pandas as pd\n",
    "import matplotlib.pyplot as plt\n",
    "import itertools\n",
    "\n",
    "from pandas.plotting import scatter_matrix"
   ]
  },
  {
   "cell_type": "code",
   "execution_count": 2,
   "id": "47632dba",
   "metadata": {},
   "outputs": [],
   "source": [
    "# Load iris dataset\n",
    "iris_data = datasets.load_iris()"
   ]
  },
  {
   "cell_type": "markdown",
   "id": "1846ec45",
   "metadata": {},
   "source": [
    "### Section 1: Data exploration"
   ]
  },
  {
   "cell_type": "code",
   "execution_count": 3,
   "id": "06a7b3cd",
   "metadata": {},
   "outputs": [
    {
     "data": {
      "text/plain": [
       "(150, 4)"
      ]
     },
     "execution_count": 3,
     "metadata": {},
     "output_type": "execute_result"
    }
   ],
   "source": [
    "iris_data.data.shape"
   ]
  },
  {
   "cell_type": "code",
   "execution_count": 4,
   "id": "da8903e1",
   "metadata": {},
   "outputs": [
    {
     "data": {
      "text/plain": [
       "array([[5.1, 3.5, 1.4, 0.2],\n",
       "       [4.9, 3. , 1.4, 0.2],\n",
       "       [4.7, 3.2, 1.3, 0.2],\n",
       "       [4.6, 3.1, 1.5, 0.2],\n",
       "       [5. , 3.6, 1.4, 0.2],\n",
       "       [5.4, 3.9, 1.7, 0.4],\n",
       "       [4.6, 3.4, 1.4, 0.3],\n",
       "       [5. , 3.4, 1.5, 0.2],\n",
       "       [4.4, 2.9, 1.4, 0.2],\n",
       "       [4.9, 3.1, 1.5, 0.1]])"
      ]
     },
     "execution_count": 4,
     "metadata": {},
     "output_type": "execute_result"
    }
   ],
   "source": [
    "# View first ten rows\n",
    "iris_data.data[:10]"
   ]
  },
  {
   "cell_type": "code",
   "execution_count": 5,
   "id": "5110d308",
   "metadata": {},
   "outputs": [
    {
     "data": {
      "text/plain": [
       "['sepal length (cm)',\n",
       " 'sepal width (cm)',\n",
       " 'petal length (cm)',\n",
       " 'petal width (cm)']"
      ]
     },
     "execution_count": 5,
     "metadata": {},
     "output_type": "execute_result"
    }
   ],
   "source": [
    "iris_data.feature_names"
   ]
  },
  {
   "cell_type": "code",
   "execution_count": 6,
   "id": "6b226e27",
   "metadata": {},
   "outputs": [
    {
     "data": {
      "text/plain": [
       "array([0, 0, 0, 0, 0, 0, 0, 0, 0, 0, 0, 0, 0, 0, 0, 0, 0, 0, 0, 0, 0, 0,\n",
       "       0, 0, 0, 0, 0, 0, 0, 0, 0, 0, 0, 0, 0, 0, 0, 0, 0, 0, 0, 0, 0, 0,\n",
       "       0, 0, 0, 0, 0, 0, 1, 1, 1, 1, 1, 1, 1, 1, 1, 1, 1, 1, 1, 1, 1, 1,\n",
       "       1, 1, 1, 1, 1, 1, 1, 1, 1, 1, 1, 1, 1, 1, 1, 1, 1, 1, 1, 1, 1, 1,\n",
       "       1, 1, 1, 1, 1, 1, 1, 1, 1, 1, 1, 1, 2, 2, 2, 2, 2, 2, 2, 2, 2, 2,\n",
       "       2, 2, 2, 2, 2, 2, 2, 2, 2, 2, 2, 2, 2, 2, 2, 2, 2, 2, 2, 2, 2, 2,\n",
       "       2, 2, 2, 2, 2, 2, 2, 2, 2, 2, 2, 2, 2, 2, 2, 2, 2, 2])"
      ]
     },
     "execution_count": 6,
     "metadata": {},
     "output_type": "execute_result"
    }
   ],
   "source": [
    "iris_data.target"
   ]
  },
  {
   "cell_type": "code",
   "execution_count": 7,
   "id": "d651f13e",
   "metadata": {},
   "outputs": [
    {
     "data": {
      "text/plain": [
       "array(['setosa', 'versicolor', 'virginica'], dtype='<U10')"
      ]
     },
     "execution_count": 7,
     "metadata": {},
     "output_type": "execute_result"
    }
   ],
   "source": [
    "iris_data.target_names"
   ]
  },
  {
   "cell_type": "markdown",
   "id": "a50cc707",
   "metadata": {},
   "source": [
    "### Section 2: Data plotting"
   ]
  },
  {
   "cell_type": "code",
   "execution_count": null,
   "id": "ff92065e",
   "metadata": {},
   "outputs": [],
   "source": [
    "#df = pd.DataFrame(iris_data.data, columns = iris_data.feature_names)\n",
    "#scatter_matrix(df, alpha = 0.6, figsize = (8,8), diagonal = 'kde')"
   ]
  },
  {
   "cell_type": "code",
   "execution_count": 8,
   "id": "b88baf4a",
   "metadata": {},
   "outputs": [
    {
     "data": {
      "image/png": "[encoded data removed]",
      "text/plain": [
       "<Figure size 640x480 with 16 Axes>"
      ]
     },
     "metadata": {},
     "output_type": "display_data"
    }
   ],
   "source": [
    "fig, axs = plt.subplots(nrows=4, ncols=4)\n",
    "\n",
    "# Plot data\n",
    "for i in range(4):\n",
    "    for j in range(4):\n",
    "        if i != j:\n",
    "            axs[i, j].scatter(x=iris_data.data[:,j], \n",
    "                              y=iris_data.data[:,i],\n",
    "                              s=2,\n",
    "                              c=iris_data.target, \n",
    "                              alpha=0.5)\n",
    "\n",
    "\n",
    "for ax in axs.flat:\n",
    "        # Hide all ticks and labels\n",
    "        ax.xaxis.set_visible(False)\n",
    "        ax.yaxis.set_visible(False)\n",
    "        # Set up ticks only on one side for the \"edge\" subplots...\n",
    "        if ax.get_subplotspec().is_first_col():\n",
    "            ax.yaxis.set_ticks_position('left')\n",
    "        if ax.get_subplotspec().is_last_col():\n",
    "            ax.yaxis.set_ticks_position('right')\n",
    "        if ax.get_subplotspec().is_first_row():\n",
    "            ax.xaxis.set_ticks_position('top')\n",
    "        if ax.get_subplotspec().is_last_row():\n",
    "            ax.xaxis.set_ticks_position('bottom')\n",
    "\n",
    "# Turn on the proper x or y axes ticks.\n",
    "for i, j in zip(range(4), itertools.cycle((-1, 0))):\n",
    "        axs[j,i].xaxis.set_visible(True)\n",
    "        axs[i,j].yaxis.set_visible(True)            \n",
    "            \n",
    "# Label the diagonal subplots...\n",
    "for i, label in enumerate(iris_data.feature_names):\n",
    "    axs[i,i].annotate(label, (0.5, 0.5), xycoords='axes fraction',ha='center', va='center')       \n",
    "        \n",
    "plt.show()\n",
    "\n",
    "# Source: https://stackoverflow.com/questions/7941207/is-there-a-function-to-make-scatterplot-matrices-in-matplotlib"
   ]
  },
  {
   "cell_type": "markdown",
   "id": "575842b1",
   "metadata": {},
   "source": [
    "### Section 3: Data mining using SVMs"
   ]
  },
  {
   "cell_type": "markdown",
   "id": "b05653e3",
   "metadata": {},
   "source": [
    "The following code uses \"SUPPORT VECTOR CLASSIFICATION\" from SCIKIT-LEARN."
   ]
  },
  {
   "cell_type": "code",
   "execution_count": 9,
   "id": "2a92c226",
   "metadata": {},
   "outputs": [],
   "source": [
    "features = iris_data.data\n",
    "target = iris_data.target\n",
    "feature_train, feature_test, target_train, target_test = train_test_split(features, target)\n",
    "model = GaussianNB()\n",
    "fitted_model = model.fit(feature_train, target_train)\n",
    "predictions = fitted_model.predict(feature_test)"
   ]
  },
  {
   "cell_type": "code",
   "execution_count": 10,
   "id": "6eada289",
   "metadata": {},
   "outputs": [
    {
     "data": {
      "text/plain": [
       "array([0, 0, 1, 0, 1, 0, 1, 2, 2, 0, 2, 1, 2, 2, 2, 1, 2, 0, 2, 1, 1, 0,\n",
       "       1, 0, 1, 0, 0, 2, 0, 0, 2, 2, 0, 2, 0, 1, 0, 0])"
      ]
     },
     "execution_count": 10,
     "metadata": {},
     "output_type": "execute_result"
    }
   ],
   "source": [
    "target_test"
   ]
  },
  {
   "cell_type": "code",
   "execution_count": 11,
   "id": "75d3d741",
   "metadata": {},
   "outputs": [
    {
     "data": {
      "text/plain": [
       "array([0, 0, 2, 0, 1, 0, 1, 2, 2, 0, 2, 2, 2, 2, 2, 1, 2, 0, 2, 1, 1, 0,\n",
       "       1, 0, 1, 0, 0, 2, 0, 0, 2, 2, 0, 2, 0, 1, 0, 0])"
      ]
     },
     "execution_count": 11,
     "metadata": {},
     "output_type": "execute_result"
    }
   ],
   "source": [
    "predictions"
   ]
  },
  {
   "cell_type": "code",
   "execution_count": 12,
   "id": "7d99fc5b",
   "metadata": {},
   "outputs": [
    {
     "data": {
      "text/plain": [
       "array([[16,  0,  0],\n",
       "       [ 0,  8,  2],\n",
       "       [ 0,  0, 12]], dtype=int64)"
      ]
     },
     "execution_count": 12,
     "metadata": {},
     "output_type": "execute_result"
    }
   ],
   "source": [
    "confusion_matrix(target_test, predictions)"
   ]
  },
  {
   "cell_type": "code",
   "execution_count": 13,
   "id": "a45cdd87",
   "metadata": {},
   "outputs": [
    {
     "data": {
      "text/plain": [
       "0.9473684210526315"
      ]
     },
     "execution_count": 13,
     "metadata": {},
     "output_type": "execute_result"
    }
   ],
   "source": [
    "accuracy_score(target_test, predictions)"
   ]
  },
  {
   "cell_type": "markdown",
   "id": "7c7f8045",
   "metadata": {},
   "source": [
    "### Section 4: Try a new data point"
   ]
  },
  {
   "cell_type": "code",
   "execution_count": 14,
   "id": "34795545",
   "metadata": {},
   "outputs": [
    {
     "data": {
      "text/plain": [
       "array([0])"
      ]
     },
     "execution_count": 14,
     "metadata": {},
     "output_type": "execute_result"
    }
   ],
   "source": [
    "new_values=fitted_model.predict(np.array([[4.9, 3.5, 1.4, 0.2]]))\n",
    "new_values"
   ]
  },
  {
   "cell_type": "code",
   "execution_count": 15,
   "id": "db6d3e19-ef34-47ee-a308-ba13337704e5",
   "metadata": {},
   "outputs": [
    {
     "data": {
      "text/plain": [
       "array(['setosa'], dtype='<U10')"
      ]
     },
     "execution_count": 15,
     "metadata": {},
     "output_type": "execute_result"
    }
   ],
   "source": [
    "iris_data.target_names[new_values]"
   ]
  }
 ],
 "metadata": {
  "kernelspec": {
   "display_name": "Python 3 (ipykernel)",
   "language": "python",
   "name": "python3"
  },
  "language_info": {
   "codemirror_mode": {
    "name": "ipython",
    "version": 3
   },
   "file_extension": ".py",
   "mimetype": "text/x-python",
   "name": "python",
   "nbconvert_exporter": "python",
   "pygments_lexer": "ipython3",
   "version": "3.9.12"
  }
 },
 "nbformat": 4,
 "nbformat_minor": 5
}
